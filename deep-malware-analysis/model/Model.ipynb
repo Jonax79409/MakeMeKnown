{
 "cells": [
  {
   "cell_type": "code",
   "execution_count": 17,
   "metadata": {},
   "outputs": [],
   "source": [
    "import lightgbm as lgb\n",
    "import numpy as np\n",
    "from sklearn.utils import shuffle\n",
    "from sklearn.model_selection import train_test_split\n",
    "from sklearn.metrics import accuracy_score, confusion_matrix\n",
    "import pandas as pd\n",
    "from dataset_builder import DatasetReader"
   ]
  },
  {
   "cell_type": "code",
   "execution_count": 18,
   "metadata": {},
   "outputs": [
    {
     "name": "stdout",
     "output_type": "stream",
     "text": [
      "Shape of data:  (564, 2479)\n",
      "Shape of labels:  (564,)\n"
     ]
    }
   ],
   "source": [
    "dataset = DatasetReader('dataset')\n",
    "\n",
    "trojan = dataset.read_data['trojan']\n",
    "rootkit = dataset.read_data['rootkit']\n",
    "backdoor = dataset.read_data['backdoor']\n",
    "benign = dataset.read_data['benign']\n",
    "\n",
    "X = trojan+rootkit+backdoor+benign\n",
    "Y = []\n",
    "\n",
    "for i in range(len(benign)):\n",
    "    Y.append(0)\n",
    "for i in range(len(trojan)):\n",
    "    Y.append(1)\n",
    "for i in range(len(rootkit)):\n",
    "    Y.append(2)\n",
    "for i in range(len(backdoor)):\n",
    "    Y.append(3)\n",
    "\n",
    "Data = np.array(X, dtype=np.float32)\n",
    "Labels = np.asarray(Y, dtype=np.float32)\n",
    "print(\"Shape of data: \", Data.shape)\n",
    "print(\"Shape of labels: \", Labels.shape)"
   ]
  },
  {
   "cell_type": "code",
   "execution_count": 19,
   "metadata": {},
   "outputs": [
    {
     "name": "stdout",
     "output_type": "stream",
     "text": [
      "[0. 1. 2. 3.]\n",
      "(564,)\n",
      "[0. 1. 2. 3.]\n"
     ]
    }
   ],
   "source": [
    "X = pd.DataFrame(Data)\n",
    "Y = pd.DataFrame(Labels)\n",
    "print(Y[0].unique())\n",
    "frames = [X, Y]\n",
    "DATA = pd.concat(frames, axis = 1)\n",
    "Y = DATA.iloc[:, -1]\n",
    "print(Y.shape)\n",
    "X = DATA.iloc[:, :-1]\n",
    "print(np.unique(Y))\n",
    "x_train, x_test, y_train, y_test = train_test_split(X, Y, test_size = 0.2, random_state = 42)\n",
    "x_train = np.array(x_train)\n",
    "x_test = np.array(x_test)\n",
    "y_train = np.array(y_train)\n",
    "y_test = np.array(y_test)"
   ]
  },
  {
   "cell_type": "code",
   "execution_count": 20,
   "metadata": {},
   "outputs": [],
   "source": [
    "d_train = lgb.Dataset(x_train, label = y_train)\n",
    "params = {}\n",
    "params['learning_rate'] = 0.05\n",
    "params['boosting_type'] = 'gbdt'\n",
    "params['objective'] = 'multiclass'\n",
    "params['num_class'] = 4\n",
    "params['metric'] = 'multi_logloss'\n",
    "params['sub_feature'] = 0.3\n",
    "params['num_leaves'] = 15\n",
    "params['min_data'] = 95\n",
    "params['max_depth'] = 15\n",
    "params['device'] = 'cpu'\n",
    "\n",
    "clf = lgb.train(params, d_train, 100)\n",
    "\n",
    "\n",
    "y_pred = clf.predict(x_test)\n",
    "best_preds = [np.argmax(line) for line in y_pred]"
   ]
  },
  {
   "cell_type": "code",
   "execution_count": 21,
   "metadata": {},
   "outputs": [
    {
     "data": {
      "text/plain": [
       "array([0, 1, 2, 3], dtype=int64)"
      ]
     },
     "execution_count": 21,
     "metadata": {},
     "output_type": "execute_result"
    }
   ],
   "source": [
    "np.unique(best_preds)"
   ]
  },
  {
   "cell_type": "code",
   "execution_count": 22,
   "metadata": {},
   "outputs": [
    {
     "data": {
      "text/plain": [
       "0.7079646017699115"
      ]
     },
     "execution_count": 22,
     "metadata": {},
     "output_type": "execute_result"
    }
   ],
   "source": [
    "accuracy_score(y_test, best_preds)"
   ]
  },
  {
   "cell_type": "code",
   "execution_count": 23,
   "metadata": {},
   "outputs": [
    {
     "data": {
      "text/plain": [
       "<lightgbm.basic.Booster at 0x2840852ef98>"
      ]
     },
     "execution_count": 23,
     "metadata": {},
     "output_type": "execute_result"
    }
   ],
   "source": [
    "clf.save_model('without_benign.mdl')"
   ]
  },
  {
   "cell_type": "code",
   "execution_count": 24,
   "metadata": {},
   "outputs": [
    {
     "data": {
      "text/plain": [
       "<lightgbm.basic.Booster at 0x284086830b8>"
      ]
     },
     "execution_count": 24,
     "metadata": {},
     "output_type": "execute_result"
    }
   ],
   "source": [
    "lgb.Booster(model_file='model.mdl')"
   ]
  },
  {
   "cell_type": "code",
   "execution_count": 25,
   "metadata": {},
   "outputs": [],
   "source": [
    "from application import get_pred"
   ]
  },
  {
   "cell_type": "code",
   "execution_count": 26,
   "metadata": {},
   "outputs": [],
   "source": [
    "data = open('ngrok', 'rb')"
   ]
  },
  {
   "cell_type": "code",
   "execution_count": 27,
   "metadata": {},
   "outputs": [],
   "source": [
    "f1 = open(\"samples/backd1.bin\", 'rb')\n",
    "tr1 = f1.read()\n",
    "f2 = open(\"samples/tr2.bin\", 'rb')\n",
    "tr2 = f2.read()\n",
    "f3 = open(\"samples/s.exe\", 'rb')\n",
    "rt = f3.read()\n",
    "data = [tr1, tr2]"
   ]
  },
  {
   "cell_type": "code",
   "execution_count": null,
   "metadata": {},
   "outputs": [],
   "source": [
    "from datasketch import MinHash, MinHashLSH\n",
    "import sys\n",
    "from nltk import ngrams\n",
    "\n",
    "data = [tr1, tr2]\n",
    "\n",
    "# Create an MinHashLSH index optimized for Jaccard threshold 0.5,\n",
    "# that accepts MinHash objects with 128 permutations functions\n",
    "lsh = MinHashLSH(threshold=0.9, num_perm=128)\n",
    "\n",
    "# Create MinHash objects\n",
    "minhashes = {}\n",
    "for c, i in enumerate(data):\n",
    "  minhash = MinHash(num_perm=128)\n",
    "  for d in ngrams(i, 3):\n",
    "    minhash.update(\"\".join(str(d)).encode('utf-8'))\n",
    "  lsh.insert(c, minhash)\n",
    "  minhashes[c] = minhash\n",
    "\n",
    "for i in range(len(minhashes.keys())):\n",
    "  result = lsh.query(minhashes[i])\n",
    "  print(\"Candidates with Jaccard similarity > 0.5 for input\", i, \":\", result)"
   ]
  },
  {
   "cell_type": "code",
   "execution_count": 13,
   "metadata": {},
   "outputs": [],
   "source": [
    "from application import get_pred, LABEL_MAP"
   ]
  },
  {
   "cell_type": "code",
   "execution_count": 15,
   "metadata": {},
   "outputs": [
    {
     "name": "stdout",
     "output_type": "stream",
     "text": [
      "lief error:  This file is not a PE binary\n",
      "1\n",
      "1\n",
      "trojan\n"
     ]
    }
   ],
   "source": [
    "data = open('samples/trojan2.bin', 'rb').read()\n",
    "pred = get_pred(data)\n",
    "print(pred)\n",
    "print(LABEL_MAP[pred])"
   ]
  },
  {
   "cell_type": "code",
   "execution_count": 16,
   "metadata": {},
   "outputs": [
    {
     "name": "stdout",
     "output_type": "stream",
     "text": [
      "1\n",
      "1\n",
      "trojan\n"
     ]
    }
   ],
   "source": [
    "data = open('samples/s.exe', 'rb').read()\n",
    "pred = get_pred(data)\n",
    "print(pred)\n",
    "print(LABEL_MAP[pred])"
   ]
  },
  {
   "cell_type": "code",
   "execution_count": null,
   "metadata": {},
   "outputs": [],
   "source": []
  }
 ],
 "metadata": {
  "kernelspec": {
   "display_name": "Python 3",
   "language": "python",
   "name": "python3"
  },
  "language_info": {
   "codemirror_mode": {
    "name": "ipython",
    "version": 3
   },
   "file_extension": ".py",
   "mimetype": "text/x-python",
   "name": "python",
   "nbconvert_exporter": "python",
   "pygments_lexer": "ipython3",
   "version": "3.6.3"
  }
 },
 "nbformat": 4,
 "nbformat_minor": 2
}
